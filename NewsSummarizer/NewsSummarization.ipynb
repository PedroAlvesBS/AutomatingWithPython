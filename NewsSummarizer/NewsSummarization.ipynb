{
 "cells": [
  {
   "cell_type": "code",
   "execution_count": 1,
   "id": "8f5d55bf",
   "metadata": {},
   "outputs": [],
   "source": [
    "from bs4 import BeautifulSoup\n",
    "from requests import get"
   ]
  },
  {
   "cell_type": "code",
   "execution_count": 2,
   "id": "9a94bc60",
   "metadata": {},
   "outputs": [],
   "source": [
    "def get_only_text(url):\n",
    "    page = get(url)\n",
    "    soup = BeautifulSoup(page.content, 'lxml')\n",
    "    text = ' '.join(map(lambda p: p.text, soup.find_all('p')))\n",
    "    #text = soup.text\n",
    "    title = ' '.join(soup.title.stripped_strings)\n",
    "    return title, text"
   ]
  },
  {
   "cell_type": "code",
   "execution_count": 3,
   "id": "c3ac0177",
   "metadata": {},
   "outputs": [],
   "source": [
    "text = get_only_text(\"https://www.bbc.com/news/world-europe-60454818\")"
   ]
  },
  {
   "cell_type": "code",
   "execution_count": 4,
   "id": "29c09b29",
   "metadata": {},
   "outputs": [
    {
     "data": {
      "text/plain": [
       "('Ukraine tensions: US sounds fresh alarm over Russia invasion fears - BBC News',\n",
       " 'The US secretary of state has said the extension of Russian military drills in Belarus has made him more worried about an imminent invasion of Ukraine. Antony Blinken said Moscow\\'s decision to keep about 30,000 troops in Belarus, next to Ukraine, amid raised tension in eastern Ukraine, suggests this. His warning came as unidentified US intelligence sources said Russian commanders have been ordered to invade. But Ukraine said talk of an imminent Russian invasion was \"inappropriate\". Its Defence Minister Alexei Reznikov said an attack \"tomorrow or the day after tomorrow\" was unlikely as no Russian \"strike groups\" had yet formed near the border. Russia has denied it plans to invade its neighbour. A Belarusian statement blamed the \"deterioration of the situation\" in eastern Ukraine as one reason for extending the drills in Belarus that were due to end on Sunday. Explosions have been continuing in Ukraine\\'s eastern Donbas region this weekend, amid increased clashes between the Ukrainian government forces and Russian-backed rebels. This video can not be played Mr Blinken said the tensions in eastern Ukraine, as well as the extended drills and Russian troop build-up, indicated Russia was about to invade. \"Everything we are seeing suggests that this is dead serious, that we are on the brink of an invasion,\" he told CNN. \"Until the tanks are actually rolling, and the planes are flying, we will use every opportunity and every minute we have to see if diplomacy can still dissuade President Putin from carrying this forward.\" His comments came as unverified reports in the US media suggested Washington believed an attack could be launched imminently. CBS News reported the US had intelligence that Russian commanders on the ground had received orders to proceed with an invasion and were now making specific battle plans on how to attack.  The report said an invasion would begin with a cyber-assault followed by a campaign of missile and airstrikes, before ground units attempted to take the capital Kyiv. And an unnamed intelligence official told CNN close to 75% of Russia\\'s conventional forces were now poised at the Ukrainian border. The concentration of Russian forces within striking distance of Ukraine was highly unusual, the source said. US company Maxar released new satellite images which it said showed multiple new field deployments of armoured equipment and troops from Russian garrisons near the border with Ukraine, indicating increased military readiness. Amid the rising tensions, Moscow said a two-hour phone call between Vladimir Putin and French President Emmanuel Macron ended in an agreement on the need for a diplomatic solution to the crisis in eastern Ukraine. But Mr Putin blamed the Ukrainian military for the escalation of tensions in the Donbas and said Russian troops would eventually leave Belarus. UK Prime Minister Boris Johnson said Mr Putin\\'s commitments to Mr Macron were a \"welcome sign\" he might still \"engage in finding a diplomatic solution\". But Mr Johnson called on the Russian leader to \"to step back from his current threats and withdraw troops from Ukraine\\'s border\". Hours later, the French presidency said a second, hour-long phone call between Mr Macron and Mr Putin took place, without giving details. The focus of tensions in recent days has been on the swathe of eastern Ukraine that Russian-backed rebels seized in 2014, when Russia annexed Crimea from Ukraine. The rebels and government forces accused each other of violating a ceasefire dozens of time on Sunday. Two Ukrainian soldiers were killed on Saturday as international monitors reported that ceasefire violations had increased dramatically this week. Thousands of civilians, out of a population of several million, are being evacuated from the separatist territories into Russia while men of fighting age are being mobilised to fight. The fresh fighting in eastern Ukraine follows a build-up of Russian troops on Ukraine\\'s borders. The US estimates Russia has mustered up to 190,000 troops around Ukraine, including separatist forces in the Donetsk and Luhansk regions. Mr Putin has been demanding assurances that Nato will not admit Ukraine, a former Soviet state with close ties to Russia, while the Western alliance denies it poses any threat to Russia. There are fears that a Russian military intervention could start a war even bloodier than the conflict in eastern Ukraine which has cost at least 14,000 lives. Many countries have urged their citizens to leave Ukraine immediately.  On Sunday the US embassy in Moscow warned Americans of potential attacks in public places in Russia, including along the border with Ukraine. A Russian foreign ministry spokesperson criticised the move. Russia keeps troops in Belarus amid Ukraine fears Ukrainian officials run from apparent shelling Is Russia about to invade Ukraine? Satellite images show Russian activity near Ukraine US sounds fresh alarm over Ukraine invasion fears Queen tests positive for Covid Music entrepreneur Jamal Edwards dies aged 31 How a long-lost kimono unearthed a family secret How will the Beijing Games be remembered? Is Russia about to invade Ukraine? Palace eases concerns over Queen\\'s Covid case How smart sensors can help us care for our houseplants Exploring lost world in abandoned department store. VideoExploring lost world in abandoned department store Smell training to \\'bring back the senses\\' VideoSmell training to \\'bring back the senses\\' How to get our protein needs in a world without meat ‘I feel reborn after pioneering gene-editing treatment’ \\'Almost everything you ever do is going to fail\\' Richard Osman on life as a broadcaster and writer Louis Theroux\\'s Forbidden America Behind the faces leading US far right political movements online Running from Conwy to Cardiff Castle... Six gruelling days at the world’s toughest mountain race © 2022 BBC. The BBC is not responsible for the content of external sites. Read about our approach to external linking.')"
      ]
     },
     "execution_count": 4,
     "metadata": {},
     "output_type": "execute_result"
    }
   ],
   "source": [
    "text"
   ]
  },
  {
   "cell_type": "code",
   "execution_count": 5,
   "id": "ad0de24b",
   "metadata": {},
   "outputs": [
    {
     "data": {
      "text/plain": [
       "949"
      ]
     },
     "execution_count": 5,
     "metadata": {},
     "output_type": "execute_result"
    }
   ],
   "source": [
    "len(str.split(text[1]))"
   ]
  },
  {
   "cell_type": "code",
   "execution_count": 7,
   "id": "ef3337ef",
   "metadata": {},
   "outputs": [
    {
     "ename": "ModuleNotFoundError",
     "evalue": "No module named 'gensim.summarization'",
     "output_type": "error",
     "traceback": [
      "\u001b[1;31m---------------------------------------------------------------------------\u001b[0m",
      "\u001b[1;31mModuleNotFoundError\u001b[0m                       Traceback (most recent call last)",
      "Input \u001b[1;32mIn [7]\u001b[0m, in \u001b[0;36m<module>\u001b[1;34m\u001b[0m\n\u001b[1;32m----> 1\u001b[0m \u001b[38;5;28;01mfrom\u001b[39;00m \u001b[38;5;21;01mgensim\u001b[39;00m\u001b[38;5;21;01m.\u001b[39;00m\u001b[38;5;21;01msummarization\u001b[39;00m\u001b[38;5;21;01m.\u001b[39;00m\u001b[38;5;21;01msummarizer\u001b[39;00m \u001b[38;5;28;01mimport\u001b[39;00m summarize\n\u001b[0;32m      2\u001b[0m \u001b[38;5;28;01mfrom\u001b[39;00m \u001b[38;5;21;01mgensim\u001b[39;00m\u001b[38;5;21;01m.\u001b[39;00m\u001b[38;5;21;01msummarization\u001b[39;00m \u001b[38;5;28;01mimport\u001b[39;00m keywords\n",
      "\u001b[1;31mModuleNotFoundError\u001b[0m: No module named 'gensim.summarization'"
     ]
    }
   ],
   "source": [
    "from gensim.summarization.summarizer import summarize\n",
    "from gensim.summarization import keywords"
   ]
  },
  {
   "cell_type": "code",
   "execution_count": null,
   "id": "64bbdcbb",
   "metadata": {},
   "outputs": [],
   "source": []
  }
 ],
 "metadata": {
  "kernelspec": {
   "display_name": "Python 3 (ipykernel)",
   "language": "python",
   "name": "python3"
  },
  "language_info": {
   "codemirror_mode": {
    "name": "ipython",
    "version": 3
   },
   "file_extension": ".py",
   "mimetype": "text/x-python",
   "name": "python",
   "nbconvert_exporter": "python",
   "pygments_lexer": "ipython3",
   "version": "3.9.10"
  }
 },
 "nbformat": 4,
 "nbformat_minor": 5
}
